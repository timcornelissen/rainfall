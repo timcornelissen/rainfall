{
 "cells": [
  {
   "cell_type": "markdown",
   "id": "f11e7b2b-53f9-493d-b65a-e19301affc36",
   "metadata": {},
   "source": [
    "# Recent rainfall data"
   ]
  },
  {
   "cell_type": "code",
   "execution_count": 1,
   "id": "cc125a6c-c252-4786-923d-d8104e278f3f",
   "metadata": {},
   "outputs": [],
   "source": [
    "import pandas as pd\n",
    "import matplotlib.pyplot as plt\n",
    "import requests\n",
    "import json"
   ]
  },
  {
   "cell_type": "markdown",
   "id": "80826ab8-2894-4354-b705-9bd40cdfd3fb",
   "metadata": {},
   "source": [
    "We get the recent rainfall data from the UK defra website, see https://environment.data.gov.uk/flood-monitoring/doc/rainfall. We first load and parse the JSON data into a pandas DataFrame."
   ]
  },
  {
   "cell_type": "code",
   "execution_count": 2,
   "id": "d4726b58-2ab4-4feb-9eb9-b9e46aa60e03",
   "metadata": {},
   "outputs": [],
   "source": [
    "def load_data(url):\n",
    "    response = json.loads(requests.get(url).text)\n",
    "    data = pd.DataFrame(response['items'])\n",
    "    datetimes = data['dateTime']\n",
    "    data.drop(columns = ['@id','measure','dateTime'], inplace=True)\n",
    "    data.set_index(pd.to_datetime(datetimes), inplace=True)\n",
    "    return data\n",
    "\n",
    "def build_url(station_ID, N_days=28):\n",
    "    data_url = \"https://environment.data.gov.uk/flood-monitoring/id/stations/\"\n",
    "    url_param = \"/readings.json?startdate=2022-06-01&enddate=2022-07-14&_sorted&parameter=rainfall&_limit=10000\"\n",
    "    url = data_url + station_ID + url_param\n",
    "    return url"
   ]
  },
  {
   "cell_type": "code",
   "execution_count": 3,
   "id": "17c3b36b-9882-45fb-b6b4-0479f1043b58",
   "metadata": {},
   "outputs": [
    {
     "data": {
      "text/html": [
       "<div>\n",
       "<style scoped>\n",
       "    .dataframe tbody tr th:only-of-type {\n",
       "        vertical-align: middle;\n",
       "    }\n",
       "\n",
       "    .dataframe tbody tr th {\n",
       "        vertical-align: top;\n",
       "    }\n",
       "\n",
       "    .dataframe thead th {\n",
       "        text-align: right;\n",
       "    }\n",
       "</style>\n",
       "<table border=\"1\" class=\"dataframe\">\n",
       "  <thead>\n",
       "    <tr style=\"text-align: right;\">\n",
       "      <th></th>\n",
       "      <th>value</th>\n",
       "    </tr>\n",
       "    <tr>\n",
       "      <th>dateTime</th>\n",
       "      <th></th>\n",
       "    </tr>\n",
       "  </thead>\n",
       "  <tbody>\n",
       "    <tr>\n",
       "      <th>2022-07-14 23:45:00+00:00</th>\n",
       "      <td>0.0</td>\n",
       "    </tr>\n",
       "    <tr>\n",
       "      <th>2022-07-14 23:30:00+00:00</th>\n",
       "      <td>0.0</td>\n",
       "    </tr>\n",
       "    <tr>\n",
       "      <th>2022-07-14 23:15:00+00:00</th>\n",
       "      <td>0.0</td>\n",
       "    </tr>\n",
       "    <tr>\n",
       "      <th>2022-07-14 23:00:00+00:00</th>\n",
       "      <td>0.0</td>\n",
       "    </tr>\n",
       "    <tr>\n",
       "      <th>2022-07-14 22:45:00+00:00</th>\n",
       "      <td>0.0</td>\n",
       "    </tr>\n",
       "  </tbody>\n",
       "</table>\n",
       "</div>"
      ],
      "text/plain": [
       "                           value\n",
       "dateTime                        \n",
       "2022-07-14 23:45:00+00:00    0.0\n",
       "2022-07-14 23:30:00+00:00    0.0\n",
       "2022-07-14 23:15:00+00:00    0.0\n",
       "2022-07-14 23:00:00+00:00    0.0\n",
       "2022-07-14 22:45:00+00:00    0.0"
      ]
     },
     "execution_count": 3,
     "metadata": {},
     "output_type": "execute_result"
    }
   ],
   "source": [
    "N_days = 28\n",
    "station_ID = \"245176TP\"\n",
    "\n",
    "data = load_data(build_url(station_ID,N_days))\n",
    "data.head()"
   ]
  },
  {
   "cell_type": "code",
   "execution_count": 7,
   "id": "929ff1b4-2225-470b-9a9c-90053ac3d047",
   "metadata": {},
   "outputs": [
    {
     "data": {
      "text/plain": [
       "<AxesSubplot:xlabel='dateTime'>"
      ]
     },
     "execution_count": 7,
     "metadata": {},
     "output_type": "execute_result"
    },
    {
     "data": {
      "image/png": "[encoded data removed]",
      "text/plain": [
       "<Figure size 432x288 with 1 Axes>"
      ]
     },
     "metadata": {
      "needs_background": "light"
     },
     "output_type": "display_data"
    }
   ],
   "source": [
    "data.plot()"
   ]
  },
  {
   "cell_type": "markdown",
   "id": "13ef30df-c852-4238-b6fb-2e52d3bd8080",
   "metadata": {},
   "source": [
    "That plot is not very helpful. Let's resample to daily rainfall and make a prettier plot."
   ]
  },
  {
   "cell_type": "code",
   "execution_count": 8,
   "id": "3362b338-a7c6-44f2-bdad-bee6201bc611",
   "metadata": {},
   "outputs": [
    {
     "data": {
      "image/png": "[encoded data removed]",
      "text/plain": [
       "<Figure size 432x288 with 1 Axes>"
      ]
     },
     "metadata": {
      "needs_background": "light"
     },
     "output_type": "display_data"
    }
   ],
   "source": [
    "from matplotlib.dates import DayLocator, DateFormatter\n",
    "\n",
    "data_daily = data.resample('1D').sum()\n",
    "\n",
    "fig, ax = plt.subplots()\n",
    "data_daily.plot(ax=ax, legend=None)\n",
    "ax.tick_params(axis='x', which='both', bottom=False, labelbottom=False)\n",
    "ax.xaxis.set_major_locator(DayLocator(interval=2))\n",
    "ax.xaxis.set_major_formatter(DateFormatter(\"%b-%d\"))\n",
    "ax.tick_params(axis=\"x\", labelrotation= 90, bottom=True,labelbottom=True)\n",
    "\n",
    "ax.set_title('Daily Rainfall')\n",
    "ax.set_ylabel('Rainfall (mm)')\n",
    "_ = ax.set_xlabel('Day')"
   ]
  },
  {
   "cell_type": "code",
   "execution_count": null,
   "id": "72e4d2d0-800b-4322-b9b7-54b2e448163b",
   "metadata": {},
   "outputs": [],
   "source": []
  }
 ],
 "metadata": {
  "kernelspec": {
   "display_name": "Python 3 (ipykernel)",
   "language": "python",
   "name": "python3"
  },
  "language_info": {
   "codemirror_mode": {
    "name": "ipython",
    "version": 3
   },
   "file_extension": ".py",
   "mimetype": "text/x-python",
   "name": "python",
   "nbconvert_exporter": "python",
   "pygments_lexer": "ipython3",
   "version": "3.9.12"
  }
 },
 "nbformat": 4,
 "nbformat_minor": 5
}
